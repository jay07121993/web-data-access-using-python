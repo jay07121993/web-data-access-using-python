{
 "cells": [
  {
   "cell_type": "code",
   "execution_count": 30,
   "metadata": {},
   "outputs": [],
   "source": [
    "from bs4 import BeautifulSoup\n",
    "import requests\n",
    "from scrapy.selector import Selector \n",
    "import justext\n",
    "import itertools"
   ]
  },
  {
   "cell_type": "code",
   "execution_count": 31,
   "metadata": {},
   "outputs": [
    {
     "name": "stdout",
     "output_type": "stream",
     "text": [
      "<bound method Tag.get_text of <!DOCTYPE html>\n",
      "<html itemscope=\"\" itemtype=\"http://schema.org/WebPage\" lang=\"de\"><head><meta content=\"text/html; charset=utf-8\" http-equiv=\"Content-Type\"/><meta content=\"/images/branding/googleg/1x/googleg_standard_color_128dp.png\" itemprop=\"image\"/><title>Google</title><script nonce=\"ulq87VlE5HwUhAPMJ3pjmw==\">(function(){window.google={kEI:'-kxbW9SVAoPSkwX0rYuoCQ',kEXPI:'0,201846,1151901,57,1654,303,1018,281,336,373,128,877,635,681,49,43,295,264,149,33,371,2338768,213,214,32,329294,1294,12383,2349,2506,32692,15247,867,6692,2240,3231,16521,366,551,553,437,1776,113,1150,1051,3191,726,5,346,35,1324,136,130,3663,1444,444,131,1119,2,544,1,7,27,727,311,299,1821,1362,1712,1376,505,730,377,1719,662,632,8,298,662,575,35,773,359,872,204,680,132,284,2,1038,271,1516,1636,525,22,604,2,659,1092,275,273,194,3,935,396,301,327,570,509,1313,274,296,337,1007,37,32,535,406,109,334,51,5,76,1108,234,386,8,1003,81,7,28,463,620,29,708,190,95,374,4,24,373,78,7,62,569,405,512,299,92,6,432,77,601,149,343,531,772,158,146,145,82,66,24,187,154,275,224,116,301,81,24,293,52,1031,110,2321761,3685997,2554,80,5997566,2800140,4,1572,549,332,445,1,2,1,1,77,1,1,900,578,14,304,1,8,1,2,1,1,1965,86,21,58,1,1,1,1,1,47,50,47,5,7,19,14,2,2,48',authuser:0,kscs:'c9c918f0_-kxbW9SVAoPSkwX0rYuoCQ',kGL:'DE'};google.kHL='de';})();google.time=function(){return(new Date).getTime()};(function(){google.lc=[];google.li=0;google.getEI=function(a){for(var b;a&&(!a.getAttribute||!(b=a.getAttribute(\"eid\")));)a=a.parentNode;return b||google.kEI};google.getLEI=function(a){for(var b=null;a&&(!a.getAttribute||!(b=a.getAttribute(\"leid\")));)a=a.parentNode;return b};google.https=function(){return\"https:\"==window.location.protocol};google.ml=function(){return null};google.wl=function(a,b){try{google.ml(Error(a),!1,b)}catch(d){}};google.log=function(a,b,d,c,g){if(a=google.logUrl(a,b,d,c,g)){b=new Image;var e=google.lc,f=google.li;e[f]=b;b.onerror=b.onload=b.onabort=function(){delete e[f]};google.vel&&google.vel.lu&&google.vel.lu(a);b.src=a;google.li=f+1}};google.logUrl=function(a,b,d,c,g){var e=\"\",f=google.ls||\"\";d||-1!=b.search(\"&ei=\")||(e=\"&ei=\"+google.getEI(c),-1==b.search(\"&lei=\")&&(c=google.getLEI(c))&&(e+=\"&lei=\"+c));c=\"\";!d&&google.cshid&&-1==b.search(\"&cshid=\")&&\"slh\"!=a&&(c=\"&cshid=\"+google.cshid);a=d||\"/\"+(g||\"gen_204\")+\"?atyp=i&ct=\"+a+\"&cad=\"+b+e+f+\"&zx=\"+google.time()+c;/^http:/i.test(a)&&google.https()&&(google.ml(Error(\"a\"),!1,{src:a,glmm:1}),a=\"\");return a};}).call(this);(function(){google.y={};google.x=function(a,b){if(a)var c=a.id;else{do c=Math.random();while(google.y[c])}google.y[c]=[a,b];return!1};google.lm=[];google.plm=function(a){google.lm.push.apply(google.lm,a)};google.lq=[];google.load=function(a,b,c){google.lq.push([[a],b,c])};google.loadAll=function(a,b){google.lq.push([a,b])};}).call(this);google.f={};</script><script nonce=\"ulq87VlE5HwUhAPMJ3pjmw==\">var a=window.location,b=a.href.indexOf(\"#\");if(0<=b){var c=a.href.substring(b+1);/(^|&)q=/.test(c)&&-1==c.indexOf(\"#\")&&a.replace(\"/search?\"+c.replace(/(^|&)fp=[^&]*/g,\"\")+\"&cad=h\")};</script><style>#gbar,#guser{font-size:13px;padding-top:1px !important;}#gbar{height:22px}#guser{padding-bottom:7px !important;text-align:right}.gbh,.gbd{border-top:1px solid #c9d7f1;font-size:1px}.gbh{height:0;position:absolute;top:24px;width:100%}@media all{.gb1{height:22px;margin-right:.5em;vertical-align:top}#gbar{float:left}}a.gb1,a.gb4{text-decoration:underline !important}a.gb1,a.gb4{color:#00c !important}.gbi .gb4{color:#dd8e27 !important}.gbf .gb4{color:#900 !important}\n",
      "</style><style>body,td,a,p,.h{font-family:arial,sans-serif}body{margin:0;overflow-y:scroll}#gog{padding:3px 8px 0}td{line-height:.8em}.gac_m td{line-height:17px}form{margin-bottom:20px}.h{color:#36c}.q{color:#00c}.ts td{padding:0}.ts{border-collapse:collapse}em{font-weight:bold;font-style:normal}.lst{height:25px;width:496px}.gsfi,.lst{font:18px arial,sans-serif}.gsfs{font:17px arial,sans-serif}.ds{display:inline-box;display:inline-block;margin:3px 0 4px;margin-left:4px}input{font-family:inherit}a.gb1,a.gb2,a.gb3,a.gb4{color:#11c !important}body{background:#fff;color:black}a{color:#11c;text-decoration:none}a:hover,a:active{text-decoration:underline}.fl a{color:#36c}a:visited{color:#551a8b}a.gb1,a.gb4{text-decoration:underline}a.gb3:hover{text-decoration:none}#ghead a.gb2:hover{color:#fff !important}.sblc{padding-top:5px}.sblc a{display:block;margin:2px 0;margin-left:13px;font-size:11px}.lsbb{background:#eee;border:solid 1px;border-color:#ccc #999 #999 #ccc;height:30px}.lsbb{display:block}.ftl,#fll a{display:inline-block;margin:0 12px}.lsb{background:url(/images/nav_logo229.png) 0 -261px repeat-x;border:none;color:#000;cursor:pointer;height:30px;margin:0;outline:0;font:15px arial,sans-serif;vertical-align:top}.lsb:active{background:#ccc}.lst:focus{outline:none}</style><script nonce=\"ulq87VlE5HwUhAPMJ3pjmw==\"></script><link href=\"/images/branding/product/ico/googleg_lodp.ico\" rel=\"shortcut icon\"/></head><body bgcolor=\"#fff\"><script nonce=\"ulq87VlE5HwUhAPMJ3pjmw==\">(function(){var src='/images/nav_logo229.png';var iesg=false;document.body.onload = function(){window.n && window.n();if (document.images){new Image().src=src;}\n",
      "if (!iesg){document.f&&document.f.q.focus();document.gbqf&&document.gbqf.q.focus();}\n",
      "}\n",
      "})();</script><div id=\"mngb\"> <div id=\"gbar\"><nobr><b class=\"gb1\">Suche</b> <a class=\"gb1\" href=\"https://www.google.de/imghp?hl=de&amp;tab=wi\">Bilder</a> <a class=\"gb1\" href=\"https://maps.google.de/maps?hl=de&amp;tab=wl\">Maps</a> <a class=\"gb1\" href=\"https://play.google.com/?hl=de&amp;tab=w8\">Play</a> <a class=\"gb1\" href=\"https://www.youtube.com/?gl=DE&amp;tab=w1\">YouTube</a> <a class=\"gb1\" href=\"https://news.google.de/nwshp?hl=de&amp;tab=wn\">News</a> <a class=\"gb1\" href=\"https://mail.google.com/mail/?tab=wm\">Gmail</a> <a class=\"gb1\" href=\"https://drive.google.com/?tab=wo\">Drive</a> <a class=\"gb1\" href=\"https://www.google.de/intl/de/options/\" style=\"text-decoration:none\"><u>Mehr</u> »</a></nobr></div><div id=\"guser\" width=\"100%\"><nobr><span class=\"gbi\" id=\"gbn\"></span><span class=\"gbf\" id=\"gbf\"></span><span id=\"gbe\"></span><a class=\"gb4\" href=\"http://www.google.de/history/optout?hl=de\">Webprotokoll</a> | <a class=\"gb4\" href=\"/preferences?hl=de\">Einstellungen</a> | <a class=\"gb4\" href=\"https://accounts.google.com/ServiceLogin?hl=de&amp;passive=true&amp;continue=https://www.google.com/\" id=\"gb_70\" target=\"_top\">Anmelden</a></nobr></div><div class=\"gbh\" style=\"left:0\"></div><div class=\"gbh\" style=\"right:0\"></div> </div><center><br clear=\"all\" id=\"lgpd\"/><div id=\"lga\"><img alt=\"Google\" height=\"92\" id=\"hplogo\" onload=\"window.lol&amp;&amp;lol()\" src=\"/images/branding/googlelogo/1x/googlelogo_white_background_color_272x92dp.png\" style=\"padding:28px 0 14px\" width=\"272\"/><br/><br/></div><form action=\"/search\" name=\"f\"><table cellpadding=\"0\" cellspacing=\"0\"><tr valign=\"top\"><td width=\"25%\"> </td><td align=\"center\" nowrap=\"\"><input name=\"ie\" type=\"hidden\" value=\"ISO-8859-1\"/><input name=\"hl\" type=\"hidden\" value=\"de\"/><input name=\"source\" type=\"hidden\" value=\"hp\"/><input name=\"biw\" type=\"hidden\"/><input name=\"bih\" type=\"hidden\"/><div class=\"ds\" style=\"height:32px;margin:4px 0\"><input autocomplete=\"off\" class=\"lst\" maxlength=\"2048\" name=\"q\" size=\"57\" style=\"color:#000;margin:0;padding:5px 8px 0 6px;vertical-align:top\" title=\"Google-Suche\" value=\"\"/></div><br style=\"line-height:0\"/><span class=\"ds\"><span class=\"lsbb\"><input class=\"lsb\" name=\"btnG\" type=\"submit\" value=\"Google-Suche\"/></span></span><span class=\"ds\"><span class=\"lsbb\"><input class=\"lsb\" name=\"btnI\" onclick=\"if(this.form.q.value)this.checked=1; else top.location='/doodles/'\" type=\"submit\" value=\"Auf gut Glück!\"/></span></span></td><td align=\"left\" class=\"fl sblc\" nowrap=\"\" width=\"25%\"><a href=\"/advanced_search?hl=de&amp;authuser=0\">Erweiterte Suche</a><a href=\"/language_tools?hl=de&amp;authuser=0\">Sprachoptionen</a></td></tr></table><input id=\"gbv\" name=\"gbv\" type=\"hidden\" value=\"1\"/></form><div id=\"gac_scont\"></div><div style=\"font-size:83%;min-height:3.5em\"><br/></div><span id=\"footer\"><div style=\"font-size:10pt\"><div id=\"fll\" style=\"margin:19px auto;text-align:center\"><a href=\"/intl/de/ads/\">Werben mit Google</a><a href=\"/services/\">Unternehmensangebote</a><a href=\"https://plus.google.com/117570067846637741468\" rel=\"publisher\">+Google</a><a href=\"/intl/de/about.html\">Über Google</a><a href=\"https://www.google.com/setprefdomain?prefdom=DE&amp;prev=https://www.google.de/&amp;sig=__2RfjYtf_-97YWEDB17lW5BijIWk%3D\">Google.de</a></div></div><p style=\"color:#767676;font-size:8pt\">© 2018 - <a href=\"/intl/de/policies/privacy/\">Datenschutzerklärung</a> - <a href=\"/intl/de/policies/terms/\">Nutzungsbedingungen</a></p></span></center><script nonce=\"ulq87VlE5HwUhAPMJ3pjmw==\">(function(){window.google.cdo={height:0,width:0};(function(){var a=window.innerWidth,b=window.innerHeight;if(!a||!b){var c=window.document,d=\"CSS1Compat\"==c.compatMode?c.documentElement:c.body;a=d.clientWidth;b=d.clientHeight}a&&b&&(a!=google.cdo.width||b!=google.cdo.height)&&google.log(\"\",\"\",\"/client_204?&atyp=i&biw=\"+a+\"&bih=\"+b+\"&ei=\"+google.kEI);}).call(this);})();</script><div id=\"xjsd\"></div><div id=\"xjsi\"><script nonce=\"ulq87VlE5HwUhAPMJ3pjmw==\">(function(){function c(b){window.setTimeout(function(){var a=document.createElement(\"script\");a.src=b;google.timers&&google.timers.load.t&&google.tick&&google.tick(\"load\",{gen204:\"xjsls\",clearcut:31});document.getElementById(\"xjsd\").appendChild(a)},0)}google.dljp=function(b,a){google.xjsu=b;c(a)};google.dlj=c;}).call(this);if(!google.xjs){window._=window._||{};window._DumpException=window._._DumpException=function(e){throw e};window._F_installCss=window._._F_installCss=function(c){};google.dljp('/xjs/_/js/k\\x3dxjs.hp.en.X6SLKYn_m0s.O/m\\x3dsb_he,d/am\\x3dhIKxAQ/rt\\x3dj/d\\x3d1/rs\\x3dACT90oFp9u622P33aFNiI5O666yj02Irdg','/xjs/_/js/k\\x3dxjs.hp.en.X6SLKYn_m0s.O/m\\x3dsb_he,d/am\\x3dhIKxAQ/rt\\x3dj/d\\x3d1/rs\\x3dACT90oFp9u622P33aFNiI5O666yj02Irdg');google.xjs=1;}google.pmc={\"sb_he\":{\"agen\":true,\"cgen\":true,\"client\":\"heirloom-hp\",\"dh\":true,\"dhqt\":true,\"ds\":\"\",\"ffql\":\"de\",\"fl\":true,\"host\":\"google.com\",\"isbh\":28,\"jsonp\":true,\"lm\":true,\"msgs\":{\"cibl\":\"Suche löschen\",\"dym\":\"Meintest du:\",\"lcky\":\"Auf gut Glück!\",\"lml\":\"Weitere Informationen\",\"oskt\":\"Eingabetools\",\"psrc\":\"Diese Suchanfrage wurde aus deinem \\u003Ca href=\\\"/history\\\"\\u003EWebprotokoll\\u003C/a\\u003E entfernt.\",\"psrl\":\"Entfernen\",\"sbit\":\"Bildersuche\",\"srch\":\"Google-Suche\"},\"nds\":true,\"ovr\":{},\"pq\":\"\",\"refpd\":true,\"rfs\":[],\"sbpl\":24,\"sbpr\":24,\"scd\":10,\"sce\":5,\"stok\":\"0q18W1g_ErHOEyG7hwNjRic5hxA\"},\"d\":{},\"ZI/YVQ\":{},\"Qnk92g\":{},\"U5B21g\":{},\"DPBNMg\":{},\"YFCs/g\":{}};google.x(null,function(){});(function(){var r=[];google.plm(r);})();(function(){var m=[]\n",
      ";google.jsc && google.jsc.m(m);})();</script></div></body></html>>\n"
     ]
    }
   ],
   "source": [
    "#Task 2(1) Extract Html document from URL\n",
    "def extractHtml(my_url):\n",
    "    page = requests.get(my_url)\n",
    "    soup = BeautifulSoup(page.text,'lxml')\n",
    "    #print(soup.prettify())\n",
    "    print(soup.get_text)\n",
    "    #print(\" \".join(soup.strings))\n",
    "extractHtml(\"https://www.google.com/\")\n",
    "#f= open(\"./page.html\",\"w+\") #to create html page\n",
    "#f.write(page.text)\n",
    "\n",
    "#print(page.headers)\n",
    "\n",
    "#print(\"Status :\",page.status_code) # check Http status\n",
    "\n",
    "#print(page.url) # print url\n",
    "\n",
    "#print(page.content) # access html content\n",
    "\n"
   ]
  },
  {
   "cell_type": "code",
   "execution_count": 17,
   "metadata": {},
   "outputs": [
    {
     "name": "stdout",
     "output_type": "stream",
     "text": [
      "Facebook – Anmelden oder Registrieren\n",
      "Gehe zuAbschnitte dieser SeiteZugriffshilfeFacebookE-Mail-Adresse oder HandynummerPasswortKonto vergessen?Auf Facebook bleibst du mit Menschen in Verbindung und teilst Fotos, Videos und vieles mehr mit ihnen.RegistrierenFacebook ist und bleibt kostenlos.JavaScript ist in deinem Browser deaktiviert.Bitte aktiviere JavaScript in deinem Browser oder installiere einen Browser, der JavaScript unterstützt, um dich für Facebook zu registrieren.Ein Fehler ist aufgetreten. Bitte versuche es noch einmal.GeburtstagTag12345678910111213141516171819202122232425262728293031MonatJanFebMrzAprMaiJunJulAugSepOktNovDezJahr201820172016201520142013201220112010200920082007200620052004200320022001200019991998199719961995199419931992199119901989198819871986198519841983198219811980197919781977197619751974197319721971197019691968196719661965196419631962196119601959195819571956195519541953195219511950194919481947194619451944194319421941194019391938193719361935193419331932193119301929192819271926192519241923192219211920191919181917191619151914191319121911191019091908190719061905Warum muss ich meinen Geburtstag angeben?WeiblichMännlichIndem du auf „Registrieren“ klickst, stimmst du unseren Nutzungsbedingungen zu. In unserer Datenrichtlinie erfährst du, wie wir deine Daten erfassen, verwenden und teilen. Unsere Cookie-Richtlinie erklärt, wie wir Cookies und ähnliche Technologien verwenden. Facebook schickt dir eventuell Benachrichtigungen per SMS, die du jederzeit abbestellen kannst.RegistrierenSicherheits-CheckDies ist ein Pflichtfeld.   ZurückRegistrierenErstelle eine Seite für einen Star, eine Band oder ein Unternehmen.DeutschEnglish (US)TürkçePolskiItalianoRomânăFrançais (France)РусскийالعربيةEspañolPortuguês (Brasil)RegistrierenAnmeldenMessengerFacebook LiteHandyFreunde findenNutzerSeitenVideointeressenOrteSpieleStandorteMarketplaceGruppenInstagramLokalesÜber unsWerbeanzeige erstellenSeite erstellenEntwicklerKarriereDatenschutzCookiesDatenschutzinfoImpressum/AGB/NetzDGHilfeEinstellungenAktivitätenprotokoll Facebook © 2018\n"
     ]
    }
   ],
   "source": [
    "#Task2(2)  Extract plain text from html document\n",
    "def plainText(my_url1):\n",
    "    page = requests.get(my_url1)\n",
    "    soup = BeautifulSoup(page.text,'html.parser')\n",
    "    \n",
    "    # kill all script and style elements\n",
    "    for script in soup([\"script\", \"style\"]):\n",
    "        script.extract()\n",
    "    text = soup.get_text() #get text\n",
    "    \n",
    "    # break into lines and remove leading and trailing space on each\n",
    "    lines = (line.strip() for line in text.splitlines())\n",
    "    # break multi-headlines into a line each\n",
    "    chunks = (phrase.strip() for line in lines for phrase in line.split(\"  \"))\n",
    "    # drop blank lines\n",
    "    text = '\\n'.join(chunk for chunk in chunks if chunk)\n",
    "\n",
    "    print(text)\n",
    "plainText(\"https://www.facebook.com/\")\n",
    "    "
   ]
  },
  {
   "cell_type": "code",
   "execution_count": 29,
   "metadata": {},
   "outputs": [
    {
     "name": "stdout",
     "output_type": "stream",
     "text": [
      "['Bing', 'Alle', 'Bilder', 'Videos', 'Karten', 'News', '|', 'MSN', 'Office Online', 'Word Online', 'Excel Online', 'PowerPoint Online', 'OneNote Online', 'Sway', 'OneDrive', 'Kalender', 'Kontakte', 'Outlook.com', 'AnmeldenPrämien', 'English', 'Heutiges Bild herunterladen', '(Nur zur Verwendung als Hintergrundbild)']\n"
     ]
    }
   ],
   "source": [
    "#Task2(3) Extract only Boilerplate content from Html\n",
    "#Extract only boilerplate content from Html\n",
    "def boilerPlateContent(url):\n",
    "    html = requests.get(url)\n",
    "    par = justext.justext(html.content, justext.get_stoplist(\"English\"))\n",
    "    boiler=[p.text for p in par if p.is_boilerplate]\n",
    "    print(boiler)\n",
    "boilerPlateContent(\"https://www.bing.com\")  \n",
    "    "
   ]
  },
  {
   "cell_type": "code",
   "execution_count": 24,
   "metadata": {},
   "outputs": [
    {
     "name": "stdout",
     "output_type": "stream",
     "text": [
      "Germany\n"
     ]
    }
   ],
   "source": [
    "#Task3 Extract keyword from list which is present in text \n",
    "list=['Germany','India']\n",
    "text=['Germany is good for Automotive industry']\n",
    "for country in list:\n",
    "    if country in text[0]:\n",
    "        print(country)\n"
   ]
  },
  {
   "cell_type": "code",
   "execution_count": 26,
   "metadata": {},
   "outputs": [
    {
     "name": "stdout",
     "output_type": "stream",
     "text": [
      "['Hangzhou Herui Chemical Co., Ltd', 'Earth Sense Agro Products Pvt Ltd', 'Ramdeo Crop Science', 'SAHJANAND PVC PIPE', 'AGRITECH ENTERPRISE', 'HENAN PROVINCE KUNHUA BIOLOGICAL TECHNOLOGY CO., lTD.', 'INTERTECHSERVICE LLC', 'Nutriworld Company Limited', 'SAFF kuwait', 'Yunnan Supply And Marketing E-Commerce Co.,Ltd', 'New Life Imobiliaria Ltd', 'Taizhou Harctor Machinary CO.,LTD', 'Qingdao Haida Baichuan Biological Engineering Co.,Ltd', 'CASHEWS AND AGRI COMMODITIES TANZANIA', 'Flexipack Plastics Weaves Co., Ltd', 'TRP Export Inspection Pvt. Ltd.', 'Gartner Ukraine Ltd', 'Infinity Construction and Trading Solutions', 'Shanxi Heshan Trade Co., Ltd.', 'Salemowers']\n",
      "['+8615988390729', '+91-8870061744', '07152241933', '+919913114027', '9638117709', '86-15083063386', '+841646040431', '+0(84)2513789668', '67671883', '+86 871 68333157', '+5562 999741076', '0086-17681650069', '8653288691936', '+255 788 832575', '86-13210823647', '+919711994117', '+380675126687', '+919831266994', '0086 18335193533', '+6282361356355']\n"
     ]
    }
   ],
   "source": [
    "#Task:4 structured information from the following url\n",
    "#Access the HTML page\n",
    "html = requests.get('https://www.gmdu.net/list-1-p1.html')\n",
    "soup = BeautifulSoup(html.text,'lxml')\n",
    "\n",
    "#Extract Company Names\n",
    "company_name = []\n",
    "pre=soup.findAll('h2')\n",
    "for i in pre:\n",
    "    body = str(i)\n",
    "    de= Selector(text=body).xpath('//a/text()').extract()\n",
    "    company_name.append(de)\n",
    "print(list(itertools.chain.from_iterable(company_name)))   \n",
    "\n",
    "#extract telephone number\n",
    "spans = soup.find_all('span', attrs={'class':'value'})\n",
    "telephone = [span.text for span in spans][0::2]\n",
    "print(telephone)\n"
   ]
  }
 ],
 "metadata": {
  "kernelspec": {
   "display_name": "Python 3",
   "language": "python",
   "name": "python3"
  },
  "language_info": {
   "codemirror_mode": {
    "name": "ipython",
    "version": 3
   },
   "file_extension": ".py",
   "mimetype": "text/x-python",
   "name": "python",
   "nbconvert_exporter": "python",
   "pygments_lexer": "ipython3",
   "version": "3.6.5"
  }
 },
 "nbformat": 4,
 "nbformat_minor": 2
}
